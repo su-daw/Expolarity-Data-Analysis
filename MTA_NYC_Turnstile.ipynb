{
 "cells": [
  {
   "cell_type": "code",
   "execution_count": null,
   "metadata": {},
   "outputs": [],
   "source": [
    "import pandas as pd\n",
    "from datetime import datetime, timedelta\n",
    "import seaborn as sns\n",
    "%matplotlib inline\n",
    "import matplotlib\n",
    "import matplotlib.pyplot as plt\n",
    "from sqlalchemy import create_engine\n",
    "import warnings\n",
    "warnings.filterwarnings('ignore')\n",
    "pd.options.mode.chained_assignment = None"
   ]
  },
  {
   "cell_type": "code",
   "execution_count": null,
   "metadata": {},
   "outputs": [],
   "source": [
    "def get_data(week_nums):\n",
    "    url = \"http://web.mta.info/developers/data/nyct/turnstile/turnstile_{}.txt\"\n",
    "    dfs = []\n",
    "    for week_num in week_nums:\n",
    "        file_url = url.format(week_num)\n",
    "        dfs.append(pd.read_csv(file_url))\n",
    "    return pd.concat(dfs)\n",
    "week_nums = [210605, 210612 ,210619, 210626, 210703,210710,210717,210724,210731,210807,210814,210821,210828]\n",
    "turnstiles_data = get_data(week_nums)"
   ]
  },
  {
   "cell_type": "code",
   "execution_count": null,
   "metadata": {},
   "outputs": [],
   "source": [
    "turnstiles_data[\"DATETIME\"] = pd.to_datetime(turnstiles_data.DATE + \" \" + turnstiles_data.TIME, \n",
    "                                            format=\"%m/%d/%Y %H:%M:%S\") "
   ]
  },
  {
   "cell_type": "code",
   "execution_count": null,
   "metadata": {},
   "outputs": [],
   "source": [
    "turnstiles_data['DATE'] = pd.to_datetime(turnstiles_data['DATE'])\n",
    "turnstiles_data['DayOfWeek'] = turnstiles_data['DATE'].dt.day_name()"
   ]
  },
  {
   "cell_type": "code",
   "execution_count": null,
   "metadata": {
    "scrolled": true
   },
   "outputs": [],
   "source": [
    "turnstiles_data.columns = [column.strip() for column in turnstiles_data.columns]\n",
    "turnstiles_data.columns"
   ]
  },
  {
   "cell_type": "code",
   "execution_count": null,
   "metadata": {
    "scrolled": true
   },
   "outputs": [],
   "source": [
    "turnstiles_data.sample(20)"
   ]
  },
  {
   "cell_type": "code",
   "execution_count": null,
   "metadata": {},
   "outputs": [],
   "source": [
    "engine = create_engine(\"sqlite:///my_database.db\")\n",
    "engine.table_names()\n",
    "turnstiles_data.to_sql('mtaColumns', engine, if_exists='replace', index=False)\n",
    "turnstiles_data = pd.read_sql('SELECT * FROM mtaColumns;', engine)"
   ]
  },
  {
   "cell_type": "code",
   "execution_count": null,
   "metadata": {
    "scrolled": true
   },
   "outputs": [],
   "source": [
    "turnstiles_data.sample(10)"
   ]
  },
  {
   "cell_type": "markdown",
   "metadata": {},
   "source": [
    "# EDA"
   ]
  },
  {
   "cell_type": "code",
   "execution_count": null,
   "metadata": {
    "scrolled": true
   },
   "outputs": [],
   "source": [
    "turnstiles_data.info()"
   ]
  },
  {
   "cell_type": "code",
   "execution_count": null,
   "metadata": {},
   "outputs": [],
   "source": [
    "turnstiles_data.info()"
   ]
  },
  {
   "cell_type": "code",
   "execution_count": null,
   "metadata": {
    "scrolled": true
   },
   "outputs": [],
   "source": [
    "turnstiles_data.isnull().sum()"
   ]
  },
  {
   "cell_type": "code",
   "execution_count": null,
   "metadata": {
    "scrolled": true
   },
   "outputs": [],
   "source": [
    "turnstiles_data.describe()"
   ]
  },
  {
   "cell_type": "code",
   "execution_count": null,
   "metadata": {},
   "outputs": [],
   "source": [
    "(turnstiles_data\n",
    ".groupby([\"C/A\", \"UNIT\", \"SCP\", \"STATION\", \"DATETIME\"])\n",
    ".ENTRIES.count()\n",
    ".reset_index()\n",
    ".sort_values(\"ENTRIES\", ascending=False)).head(20)"
   ]
  },
  {
   "cell_type": "code",
   "execution_count": null,
   "metadata": {
    "scrolled": true
   },
   "outputs": [],
   "source": [
    "import datetime as dt\n",
    "my_datetime = dt.datetime(2021, 7, 22)\n",
    "mask = ((turnstiles_data[\"C/A\"] == \"R514\") & \n",
    "(turnstiles_data[\"UNIT\"] == \"R094\") & \n",
    "(turnstiles_data[\"SCP\"] == \"00-05-00\") & \n",
    "(turnstiles_data[\"STATION\"] == \"ASTORIA BLVD\") &\n",
    "(turnstiles_data[\"DATETIME\"].dt.date == my_datetime.date()))\n",
    "\n",
    "turnstiles_data[mask]"
   ]
  },
  {
   "cell_type": "code",
   "execution_count": null,
   "metadata": {
    "scrolled": true
   },
   "outputs": [],
   "source": [
    "turnstiles_data.DESC.value_counts()"
   ]
  },
  {
   "cell_type": "code",
   "execution_count": null,
   "metadata": {},
   "outputs": [],
   "source": [
    "turnstiles_data.sort_values([\"C/A\", \"UNIT\", \"SCP\", \"STATION\", \"DATETIME\"], \n",
    "                          inplace=True, ascending=False)\n",
    "turnstiles_data.drop_duplicates(subset=[\"C/A\", \"UNIT\", \"SCP\", \"STATION\", \"DATETIME\"], inplace=True)"
   ]
  },
  {
   "cell_type": "code",
   "execution_count": null,
   "metadata": {
    "scrolled": true
   },
   "outputs": [],
   "source": [
    "(turnstiles_data\n",
    " .groupby([\"C/A\", \"UNIT\", \"SCP\", \"STATION\", \"DATETIME\"])\n",
    " .ENTRIES.count()\n",
    " .reset_index()\n",
    " .sort_values(\"ENTRIES\", ascending=False)).head(50)"
   ]
  },
  {
   "cell_type": "code",
   "execution_count": null,
   "metadata": {
    "scrolled": false
   },
   "outputs": [],
   "source": [
    "turnstiles_data.shape "
   ]
  },
  {
   "cell_type": "code",
   "execution_count": null,
   "metadata": {
    "scrolled": false
   },
   "outputs": [],
   "source": [
    "turnstiles_data.sample(20)"
   ]
  },
  {
   "cell_type": "code",
   "execution_count": null,
   "metadata": {},
   "outputs": [],
   "source": [
    "turnstiles_data.reset_index(inplace=True)"
   ]
  },
  {
   "cell_type": "markdown",
   "metadata": {},
   "source": [
    "# Analysis "
   ]
  },
  {
   "cell_type": "code",
   "execution_count": null,
   "metadata": {},
   "outputs": [],
   "source": [
    "turnstiles_data['TRAFFIC']= turnstiles_data['ENTRIES']+ turnstiles_data['EXITS']"
   ]
  },
  {
   "cell_type": "code",
   "execution_count": null,
   "metadata": {},
   "outputs": [],
   "source": [
    "turnstiles_data[[\"PREV_DATE\", \"PREV_TRAFFIC\"]] = (turnstiles_data\n",
    "                                     .groupby([\"C/A\", \"UNIT\", \"SCP\", \"STATION\",\"DATE\"])[\"DATETIME\", \"TRAFFIC\"]\n",
    "                                    .apply(lambda grp: grp.shift(1)))"
   ]
  },
  {
   "cell_type": "code",
   "execution_count": null,
   "metadata": {},
   "outputs": [],
   "source": [
    "turnstiles_data.dropna(subset=[\"PREV_DATE\"], axis=0, inplace=True)\n",
    "(turnstiles_data[turnstiles_data[\"TRAFFIC\"] < turnstiles_data[\"PREV_TRAFFIC\"]]\n",
    "    .groupby([\"C/A\", \"UNIT\", \"SCP\", \"STATION\"])\n",
    "    .size())"
   ]
  },
  {
   "cell_type": "code",
   "execution_count": null,
   "metadata": {
    "scrolled": true
   },
   "outputs": [],
   "source": [
    "def get_traffic_counts(row, max_counter):\n",
    "    counter = row[\"TRAFFIC\"] - row[\"PREV_TRAFFIC\"]\n",
    "    if counter < 0:\n",
    "        # Maybe counter is reversed?\n",
    "        counter = -counter\n",
    "    if counter > max_counter:\n",
    "        # Maybe counter was reset to 0?\n",
    "        print(row[\"TRAFFIC\"], row[\"PREV_TRAFFIC\"])\n",
    "        counter = min(row[\"TRAFFIC\"], row[\"PREV_TRAFFIC\"])\n",
    "    if counter > max_counter:\n",
    "        # Check it again to make sure we're not still giving a counter that's too big\n",
    "        return 0\n",
    "    return counter\n",
    "# If counter is > 1Million, then the counter might have been reset.\n",
    "# Just set it to zero as different counters have different cycle limits\n",
    "# It'd probably be a good idea to use a number even significantly smaller than 1 million as the limit!\n",
    "turnstiles_data[\"DAILY_TRAFFIC\"] = turnstiles_data.apply(get_traffic_counts, axis=1, max_counter=100000)\n",
    "#turnstiles_daily[\"DAILY_ENTRIES\"] = turnstiles_daily.apply(get_daily_counts, axis=1, max_counter=1000000)"
   ]
  },
  {
   "cell_type": "code",
   "execution_count": null,
   "metadata": {
    "scrolled": true
   },
   "outputs": [],
   "source": [
    "sd = turnstiles_data.groupby([\"STATION\", \"DayOfWeek\"])[['DAILY_TRAFFIC']].sum().reset_index()\n",
    "f = sd.sort_values('DAILY_TRAFFIC')"
   ]
  },
  {
   "cell_type": "code",
   "execution_count": null,
   "metadata": {},
   "outputs": [],
   "source": [
    "mask1=sd[(sd['STATION']=='34 ST-PENN STA') | (sd['STATION']=='GRD CNTRL-42 ST') | (sd['STATION']=='34 ST-HERALD SQ') | (sd['STATION']=='86 ST') | (sd['STATION']=='14 ST-UNION SQ')]  \n",
    "\n",
    "mask22 = mask1.groupby(['STATION', 'DayOfWeek']).agg({'DAILY_TRAFFIC': sum})\n",
    "\n",
    "mask22"
   ]
  },
  {
   "cell_type": "code",
   "execution_count": null,
   "metadata": {},
   "outputs": [],
   "source": [
    "station_totals = sd.groupby('STATION').sum()\\\n",
    "    .sort_values('DAILY_TRAFFIC', ascending=False)\\\n",
    "    .reset_index()"
   ]
  },
  {
   "cell_type": "code",
   "execution_count": null,
   "metadata": {
    "scrolled": false
   },
   "outputs": [],
   "source": [
    "station_totals"
   ]
  },
  {
   "cell_type": "code",
   "execution_count": null,
   "metadata": {},
   "outputs": [],
   "source": [
    "top5 = mask22.groupby(['STATION']).agg({'DAILY_TRAFFIC': sum}).sort_values(by = 'DAILY_TRAFFIC', ascending = False).head(5)"
   ]
  },
  {
   "cell_type": "markdown",
   "metadata": {},
   "source": [
    "# Visualization"
   ]
  },
  {
   "cell_type": "code",
   "execution_count": null,
   "metadata": {
    "scrolled": true
   },
   "outputs": [],
   "source": [
    "top_5 = station_totals.groupby(['STATION']).agg({'DAILY_TRAFFIC': sum}).sort_values(by = 'DAILY_TRAFFIC', ascending = False).head(5)\n",
    "fig, ax = plt.subplots(figsize=(10, 5))\n",
    "top_5.sort_values(by = 'DAILY_TRAFFIC',ascending=True).plot(kind='bar', color ='orange', ax=ax)\n",
    "ax.set(title='Top 5 Stations by Turnstiles Traffic (June to August 2021)', xlabel='Stations', ylabel=' Traffic')\n",
    "plt.xticks(rotation=45)\n",
    "ax.legend().set_visible(False)"
   ]
  },
  {
   "cell_type": "code",
   "execution_count": null,
   "metadata": {
    "scrolled": true
   },
   "outputs": [],
   "source": [
    "df = mask22.groupby(['DayOfWeek']).agg({'DAILY_TRAFFIC': sum}).sort_values(by = 'DAILY_TRAFFIC', ascending = False)\n",
    "fig, ax = plt.subplots(figsize=(10, 5))\n",
    "df.sort_values(by = 'DAILY_TRAFFIC',ascending=True).plot(kind='bar', ax=ax)\n",
    "ax.set(title='Top 5 Stations by Turnstiles Traffic (June to August 2021)', xlabel='Stations', ylabel=' Traffic')\n",
    "plt.xticks(rotation=45) \n",
    "ax.legend().set_visible(False)"
   ]
  },
  {
   "cell_type": "code",
   "execution_count": null,
   "metadata": {
    "scrolled": true
   },
   "outputs": [],
   "source": [
    "ax = sns.barplot(x=\"DAILY_TRAFFIC\", y=\"DayOfWeek\",data=f, palette=\"Blues_d\", ci = None)\n",
    "ax.set_yticklabels(ax.get_yticklabels(),rotation = 15);\n",
    "ax.set_xlabel(\"Daily Traffic\", fontsize = 15)\n",
    "ax.set_ylabel(\"Days of The week\", fontsize = 15);\n"
   ]
  },
  {
   "cell_type": "code",
   "execution_count": null,
   "metadata": {},
   "outputs": [],
   "source": [
    "sns.set(rc = {'figure.figsize':(15,8)})\n",
    "c= sns.lineplot(data=mask22, x=\"DayOfWeek\", y=\"DAILY_TRAFFIC\", hue=\"STATION\")\n",
    "c.set_ylabel(\"Daily Traffic\", fontsize = 15)\n",
    "c.set_xlabel(\"Days of The week\", fontsize = 15);"
   ]
  },
  {
   "cell_type": "code",
   "execution_count": null,
   "metadata": {
    "scrolled": true
   },
   "outputs": [],
   "source": [
    "fig, ax = plt.subplots(figsize=(7, 6))\n",
    "colormap = sns.color_palette(\"Blues\",12)\n",
    "v=sns.heatmap(top5, annot = True, cmap=colormap)\n",
    "v.set_yticklabels(ax.get_yticklabels(),rotation = 15);\n",
    "v.set_ylabel(\"Stations\", fontsize = 15)\n",
    "plt.xlabel('Daily Traffic')\n",
    "plt.show()"
   ]
  },
  {
   "cell_type": "code",
   "execution_count": null,
   "metadata": {},
   "outputs": [],
   "source": [
    "i = sns.heatmap(top5)\n",
    "i.set_yticklabels(ax.get_yticklabels(),rotation = 15);\n",
    "i.set_ylabel(\"Stations\", fontsize = 15)\n",
    "i.set_xlabel(\"Daily Traffic\", fontsize = 15);"
   ]
  },
  {
   "cell_type": "code",
   "execution_count": null,
   "metadata": {
    "scrolled": false
   },
   "outputs": [],
   "source": [
    "plt.figure(figsize=(20,5))\n",
    "v= sd.set_index('DayOfWeek')['DAILY_TRAFFIC'].plot(color = 'steelblue')\n",
    "plt.title('Daily Total Traffic for June to August 2021') \n",
    "v.set_ylabel(\"Daily Traffic\", fontsize = 15)\n",
    "v.set_xlabel(\"days\", fontsize = 15);\n",
    "plt.show()"
   ]
  }
 ],
 "metadata": {
  "kernelspec": {
   "display_name": "Python 3",
   "language": "python",
   "name": "python3"
  },
  "language_info": {
   "codemirror_mode": {
    "name": "ipython",
    "version": 3
   },
   "file_extension": ".py",
   "mimetype": "text/x-python",
   "name": "python",
   "nbconvert_exporter": "python",
   "pygments_lexer": "ipython3",
   "version": "3.8.5"
  }
 },
 "nbformat": 4,
 "nbformat_minor": 4
}
